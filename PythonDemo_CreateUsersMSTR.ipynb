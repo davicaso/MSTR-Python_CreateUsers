{
 "cells": [
  {
   "cell_type": "markdown",
   "id": "b6512389",
   "metadata": {},
   "source": [
    "# Mstrio-py for Administration"
   ]
  },
  {
   "cell_type": "code",
   "execution_count": null,
   "id": "dc979f7b",
   "metadata": {},
   "outputs": [],
   "source": [
    "# Importing packages\n",
    "import pandas as pd\n",
    "from mstrio.project_objects import list_olap_cubes, OlapCube\n",
    "from mstrio.object_management import list_folders, Folder\n",
    "from mstrio.users_and_groups import list_user_groups, list_users, User, UserGroup\n",
    "from mstrio.modeling.security_filter import list_security_filters, SecurityFilter\n",
    "from mstrio.access_and_security import security_role\n",
    "from mstrio.server import Environment, Cluster\n",
    "from mstrio.connection import Connection\n",
    "from mstrio.modeling.schema imoprt(\n",
    "    Attribute,\n",
    "    AttributeDisplays,\n",
    "    AttributeForm,\n",
    "    AttributeSort,\n",
    "    AttributeSorts,\n",
    "    DataType,\n",
    "    FormReference,\n",
    "    list_attributes,\n",
    "    ObjectSubType,\n",
    "    Relationship,\n",
    "    SchemaManagement,\n",
    "    SchemaObjectReference,\n",
    "    SchemaUpdateType\n",
    "    )\n",
    "    from mstrio.access_and_security import Privilege"
   ]
  },
  {
   "cell_type": "markdown",
   "id": "cffecc6e",
   "metadata": {},
   "source": [
    "**Connecting to test environment**"
   ]
  },
  {
   "cell_type": "code",
   "execution_count": null,
   "id": "664a1f02",
   "metadata": {},
   "outputs": [],
   "source": [
    "# Credentials fron environment\n",
    "    env = ****\n",
    "    user = '****'\n",
    "    psw = '******'\n",
    "    \n",
    "    url = 'https://env-' + str(env) + '.customer.cloud.microstrategy.com/MicroStrategyLibrary/'\n",
    "    \n",
    "# Connection to environment\n",
    "    conn = Connection(url, user, psw, login_mode=1, project_name = 'MicroStrategy Tutorial')"
   ]
  },
  {
   "cell_type": "markdown",
   "id": "62600f61",
   "metadata": {},
   "source": [
    "**Creating Users**"
   ]
  },
  {
   "cell_type": "code",
   "execution_count": null,
   "id": "f8c75568",
   "metadata": {},
   "outputs": [],
   "source": [
    "# Individually creating users\n",
    "    User.create(connection = conn, username = 'pythondemo1', full_name = 'test user1', password = 'fake1234')\n",
    "    User.create(connection = conn, username = 'pythondemo2', full_name = 'test user1', password = 'fake1234')\n",
    "    \n",
    "# Instantiating user objects\n",
    "    user1_ = User(connection = conn, name = 'test user1')\n",
    "    user2_ = User(connection = conn, name = 'test user2')"
   ]
  },
  {
   "cell_type": "markdown",
   "id": "1a47e8b1",
   "metadata": {},
   "source": [
    "**Creating Users from List**"
   ]
  },
  {
   "cell_type": "code",
   "execution_count": null,
   "id": "3e04c747",
   "metadata": {},
   "outputs": [],
   "source": [
    "# Looping through a list to create multiple users\n",
    "    users_to_create = [{'username': 'jnawson', 'fullName': 'John Nawson', 'password': 'test1234', 'addresses': 'test@gmail.com'},\n",
    "                   {'username': 'lmarian', 'fullName': 'Lara Marian', 'password': 'test1234', 'addresses': 'test2@gmail.com'}]\n",
    "    \n",
    "    for u in users_to_create:\n",
    "        User.create(connection = conn, username = u['username'], full_name = u['fullName'], password = u['password'].add_address(name='gmail', address=u['addresses'])"
   ]
  },
  {
   "cell_type": "markdown",
   "id": "6d41db5a",
   "metadata": {},
   "source": [
    "**Creating a User Group**"
   ]
  },
  {
   "cell_type": "code",
   "execution_count": null,
   "id": "74b40c07",
   "metadata": {},
   "outputs": [],
   "source": [
    "# Creating a user group called 'test'\n",
    "    UserGroup.create(connection=conn, name='Test_Py')\n",
    "    test_group = Usergroup(connection=conn, name = \"Test_Py\")\n",
    "    \n",
    "    # Adding users to user group\n",
    "    test_group.add_users(users = [user1_.id, user2_.id])"
   ]
  },
  {
   "cell_type": "markdown",
   "id": "bb00dd9e",
   "metadata": {},
   "source": [
    "**Listing Users in a Group and their Privileges**"
   ]
  },
  {
   "cell_type": "code",
   "execution_count": null,
   "id": "ad81f291",
   "metadata": {},
   "outputs": [],
   "source": [
    "# Listing users in a group\n",
    "    web_users = UserGroup(connection=conn, name='Web Users')\n",
    "    web_df = pd.DataFrame(web_users.list_members())\n",
    "    print(web_df)"
   ]
  },
  {
   "cell_type": "code",
   "execution_count": null,
   "id": "4b164c14",
   "metadata": {},
   "outputs": [],
   "source": [
    "    web_users.list_privileges(to_dataFrame=True)"
   ]
  },
  {
   "cell_type": "markdown",
   "id": "09c009f4",
   "metadata": {},
   "source": [
    "**Privileges**"
   ]
  },
  {
   "cell_type": "code",
   "execution_count": null,
   "id": "d572e0eb",
   "metadata": {},
   "outputs": [],
   "source": [
    "# Listing all privileges available\n",
    "    privilege_dict = Privilege.list_privileges(connection=conn, to_dataFrame=True)\n",
    "    print(privilege_dict)"
   ]
  },
  {
   "cell_type": "code",
   "execution_count": null,
   "id": "65ca407b",
   "metadata": {},
   "outputs": [],
   "source": [
    "# Creating list of privileges that have 'architect' in them\n",
    "    architect_privs = []\n",
    "    \n",
    "    for priv in privilege_dict:\n",
    "        if 'Architect' in str(priv['categories']):\n",
    "            architect_privs.append(priv['id'])\n",
    "            \n",
    "    print(architect_privs)"
   ]
  },
  {
   "cell_type": "code",
   "execution_count": null,
   "id": "f62df15c",
   "metadata": {},
   "outputs": [],
   "source": [
    "# Granting architect privileges & security filter to group\n",
    " test_group.grant_privilege(architect_privs)"
   ]
  },
  {
   "cell_type": "markdown",
   "id": "11155795",
   "metadata": {},
   "source": [
    "**Alternative - Security Role**"
   ]
  },
  {
   "cell_type": "code",
   "execution_count": null,
   "id": "d59917b9",
   "metadata": {},
   "outputs": [],
   "source": [
    "security_role.list_security_roles(connection=conn)\n",
    "\n",
    "architect_role = security_role.SecurityRole.create(connection=conn, name = 'Architect Test', privileges=architect_privs)\n",
    "\n",
    "test_group.assign_security_role(architect_role, project = 'MicroStrategy Tutorial')"
   ]
  },
  {
   "cell_type": "markdown",
   "id": "d7df3be6",
   "metadata": {},
   "source": [
    "**Security Filters**"
   ]
  },
  {
   "cell_type": "code",
   "execution_count": null,
   "id": "e465d37b",
   "metadata": {},
   "outputs": [],
   "source": [
    "# Instantiating a security filter object\n",
    "    south_sf = SecurityFilter(connection=conn, name='Region is south')\n",
    "    \n",
    "# Applying security filter to user group\n",
    "    test_group.apply_security_filter(south_sf)"
   ]
  },
  {
   "cell_type": "markdown",
   "id": "27c91ec5",
   "metadata": {},
   "source": [
    "**All that code in one line**"
   ]
  },
  {
   "cell_type": "code",
   "execution_count": null,
   "id": "408d55fb",
   "metadata": {},
   "outputs": [],
   "source": [
    "UserGroup.create(connection=conn, name='Test2', members=[user1_, user2_], privilege=privilege_dict). apply_security_filter(south_sf)"
   ]
  },
  {
   "cell_type": "markdown",
   "id": "346b7262",
   "metadata": {},
   "source": [
    "**Mass Modify ACLs***"
   ]
  },
  {
   "cell_type": "code",
   "execution_count": null,
   "id": "cfa4ae21",
   "metadata": {},
   "outputs": [],
   "source": [
    "from mstrio.utils import acl\n",
    "from mstrio.object_management import folder, object\n",
    "\n",
    "# Create folder object\n",
    "test_folder = folder.Folder(connection=conn, id='***************')\n",
    "#test_folder.acl_add(rights = acl.Rights.BROWSE, trustees=test_group)\n",
    "\n",
    "\n",
    "# Check folder contents for specific name/prefix\n",
    "tf_contents = test_folder.get_contents()\n",
    "for i in tf_contents:\n",
    "    if 'Test' in i.name:\n",
    "        print(i)\n",
    "        i.acl_add(rights = acl.Rights.BROWSE, trustees=test_group)"
   ]
  },
  {
   "cell_type": "code",
   "execution_count": null,
   "id": "e10bf5e5",
   "metadata": {},
   "outputs": [],
   "source": [
    "all_users = list_users(connection=conn)\n",
    "\n",
    "for i in all_users:\n",
    "    if i.addresses:\n",
    "        print('{:<30s} {:<10s}'.format(i.name, i.addresses[0]['value']))"
   ]
  },
  {
   "cell_type": "markdown",
   "id": "759ba266",
   "metadata": {},
   "source": [
    "**Environment Information**"
   ]
  },
  {
   "cell_type": "code",
   "execution_count": null,
   "id": "708b342f",
   "metadata": {},
   "outputs": [],
   "source": [
    "# Listing projects in the environment\n",
    "    clust = Cluster(connection = conn)\n",
    "    clust_prjects = clust.list_projects()\n",
    "    \n",
    "    from proj in clust_projects:\n",
    "        print(proj)"
   ]
  },
  {
   "cell_type": "code",
   "execution_count": null,
   "id": "88995d8a",
   "metadata": {},
   "outputs": [],
   "source": []
  },
  {
   "cell_type": "code",
   "execution_count": null,
   "id": "334743e0",
   "metadata": {},
   "outputs": [],
   "source": []
  }
 ],
 "metadata": {
  "kernelspec": {
   "display_name": "Python 3 (ipykernel)",
   "language": "python",
   "name": "python3"
  },
  "language_info": {
   "codemirror_mode": {
    "name": "ipython",
    "version": 3
   },
   "file_extension": ".py",
   "mimetype": "text/x-python",
   "name": "python",
   "nbconvert_exporter": "python",
   "pygments_lexer": "ipython3",
   "version": "3.9.13"
  }
 },
 "nbformat": 4,
 "nbformat_minor": 5
}
